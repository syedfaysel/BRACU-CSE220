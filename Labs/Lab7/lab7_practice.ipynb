{
 "cells": [
  {
   "cell_type": "markdown",
   "metadata": {},
   "source": [
    "## Task 01: \n",
    "1.  Implement a recursive algorithm to find factorial of n.  \n",
    "\n",
    "2.  Implement a recursive algorithm to find the n-th Fibonacci number.  \n",
    "\n",
    "3.  Print all the elements of a given array recursively.\n",
    "\n",
    "4. Given base and n that are both 1 or more, compute recursively (no loops) the value of base  to the n power, so powerN(3, 2) is 9 (3 squared).  powerN(3, 1) → 3  powerN(3, 2) → 9 powerN(3, 3) → 27\n"
   ]
  },
  {
   "cell_type": "code",
   "execution_count": 18,
   "metadata": {},
   "outputs": [
    {
     "name": "stdout",
     "output_type": "stream",
     "text": [
      "24\n",
      "8\n",
      "10 20 30 40 \n",
      "9\n"
     ]
    }
   ],
   "source": [
    "# 01_1: Factorial n (n!) using recursive algorithm\n",
    "\n",
    "\n",
    "def fact(n):\n",
    "\n",
    "    if (n==0 or n==1):\n",
    "        return 1\n",
    "\n",
    "    else: \n",
    "        return n*fact(n-1)\n",
    "\n",
    "# Test : method call\n",
    "print(fact(4))\n",
    "\n",
    "\n",
    "# 01_2: n-th Fibonacci Number\n",
    "\n",
    "def fibo(n):\n",
    "\n",
    "    if (n==0):\n",
    "        return 0\n",
    "    elif (n==1):\n",
    "        return 1\n",
    "    else: \n",
    "        return fibo(n-1)+fibo(n-2)\n",
    "\n",
    "# Test : method call\n",
    "print(fibo(6))\n",
    "\n",
    "# 01_3: print elements of array recursively\n",
    "\n",
    "def printArray(array, l):\n",
    "    if (l == len(array)):\n",
    "        return\n",
    "    else:\n",
    "        print(array[l], end=\" \")\n",
    "        return printArray(array, l+1)\n",
    "\n",
    "printArray([10,20,30,40],0)\n",
    "\n",
    "print()\n",
    "\n",
    "# 01_4: power(base, n) using recurstion\n",
    "\n",
    "def powerN(base, n):\n",
    "    if (n==1):\n",
    "        return base\n",
    "    else:\n",
    "        return base*powerN(base,n-1)\n",
    "\n",
    "print(powerN(3,2))"
   ]
  },
  {
   "cell_type": "markdown",
   "metadata": {},
   "source": [
    "## Task 02:  \n",
    "1. Implement a recursive algorithm that takes a decimal number n and converts n to its corresponding (you may return as a string) binary number.\n",
    "2. Implement a recursive algorithm to add all the elements of a non-dummy headed singly linked linear list. Only head of the list will be given as parameter where you may assume every node can contain only integer as its element.\n",
    "Note: you’ll need a Singly Node class for this code.\n",
    "\n",
    "3. Implement a recursive algorithm which will print all the elements of a non-dummy headed singly linked linear list in reversed order.\n",
    "\n",
    "Example: if the linked list contains 10, 20, 30 and 40, the method will print\n",
    "40\n",
    "30\n",
    "20\n",
    "10\n",
    "Note: you’ll need a Singly Node class for this code.\n",
    "\n"
   ]
  },
  {
   "cell_type": "code",
   "execution_count": 19,
   "metadata": {},
   "outputs": [],
   "source": [
    "#Node Class \n",
    "\n",
    "class Node:\n",
    "    def __init__(self, data = None, next = None):\n",
    "        self.data = data\n",
    "        self.next = next\n",
    "\n",
    "i4 = Node(40)\n",
    "i3 = Node(30,i4)\n",
    "i2 = Node(20,i3)\n",
    "i1 = Node(10,i2)"
   ]
  },
  {
   "cell_type": "code",
   "execution_count": 20,
   "metadata": {},
   "outputs": [
    {
     "name": "stdout",
     "output_type": "stream",
     "text": [
      "100\n",
      "40 30 20 10 "
     ]
    }
   ],
   "source": [
    "# 02_b : Sum of elements of Linked List\n",
    "\n",
    "def sum(node):\n",
    "\n",
    "    if (node.next == None):\n",
    "        return node.data\n",
    "    else: \n",
    "        return node.data + sum(node.next)\n",
    "\n",
    "print(sum(i1))\n",
    "\n",
    "# 02_c: print ll elements in reverse order\n",
    "def printRev(node):\n",
    "\n",
    "    if (node.next == None):\n",
    "        print(node.data, end=\" \")\n",
    "    else:\n",
    "        printRev(node.next)\n",
    "        print(node.data, end=\" \")\n",
    "\n",
    "printRev(i1)\n"
   ]
  },
  {
   "cell_type": "markdown",
   "metadata": {},
   "source": [
    "## Task 03: Hockbuilder"
   ]
  },
  {
   "cell_type": "code",
   "execution_count": 21,
   "metadata": {},
   "outputs": [
    {
     "name": "stdout",
     "output_type": "stream",
     "text": [
      "13\n"
     ]
    }
   ],
   "source": [
    "def hocBuilder(height):\n",
    "    if (height<1):\n",
    "        return 0\n",
    "    elif (height==1):\n",
    "        return 8\n",
    "    else:\n",
    "        return 5 + hocBuilder(height - 1)\n",
    "\n",
    "print(hocBuilder(2))"
   ]
  },
  {
   "cell_type": "markdown",
   "metadata": {},
   "source": [
    "## Task 04 : \n",
    "1. Print the following pattern for the given input (you must use recursion):\n"
   ]
  },
  {
   "cell_type": "code",
   "execution_count": 22,
   "metadata": {},
   "outputs": [
    {
     "name": "stdout",
     "output_type": "stream",
     "text": [
      "\n",
      " 1 \n",
      " 1 2 \n",
      " 1 2 3 \n",
      " 1 2 3 4 \n",
      " 1 2 3 4 5 "
     ]
    }
   ],
   "source": [
    "# 04_1 : pattern printing using recursion \n",
    "\n",
    "def pattern(n):\n",
    "\n",
    "    if (n==0):\n",
    "        return\n",
    "    else:\n",
    "        pattern(n-1)\n",
    "        print(f\"{n} \"*n)\n",
    "\n",
    "# pattern(5)\n",
    "\n",
    "\n",
    "def printRow(n):\n",
    "    if (n == 0):\n",
    "        return\n",
    "    printRow(n-1)\n",
    "    print(n, end = \" \")\n",
    "\n",
    "def recPattern(n, i): \n",
    "    if (n == 0):\n",
    "        return\n",
    "    print(\"\\n\", end = \" \")\n",
    "    printRow(i)\n",
    "    recPattern(n-1, i+1)\n",
    "\n",
    "recPattern(5,1)"
   ]
  },
  {
   "cell_type": "code",
   "execution_count": 23,
   "metadata": {},
   "outputs": [
    {
     "name": "stdout",
     "output_type": "stream",
     "text": [
      " \n",
      " \n",
      "1  \n",
      "1 2  \n",
      "1 2 3  \n",
      "1 2 3 4  \n",
      "1 2 3 4 5 "
     ]
    }
   ],
   "source": [
    "def printPattern(m):\n",
    "    if (m==0):\n",
    "        print(\" \")\n",
    "    else:\n",
    "        printPattern(m-1)\n",
    "        printSeq(m)\n",
    "\n",
    "def printSeq(m):\n",
    "    if (m==0):\n",
    "        print(\" \")\n",
    "    else:\n",
    "        printSeq(m-1)\n",
    "        print(m,end=\" \")\n",
    "\n",
    "printPattern(5)"
   ]
  }
 ],
 "metadata": {
  "kernelspec": {
   "display_name": "Python 3.10.5 64-bit",
   "language": "python",
   "name": "python3"
  },
  "language_info": {
   "codemirror_mode": {
    "name": "ipython",
    "version": 3
   },
   "file_extension": ".py",
   "mimetype": "text/x-python",
   "name": "python",
   "nbconvert_exporter": "python",
   "pygments_lexer": "ipython3",
   "version": "3.10.5"
  },
  "orig_nbformat": 4,
  "vscode": {
   "interpreter": {
    "hash": "2f618269b973d24085f675b42f2810613f479d8adb53313aa29e50ef167b85a5"
   }
  }
 },
 "nbformat": 4,
 "nbformat_minor": 2
}
