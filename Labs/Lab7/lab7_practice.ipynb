{
 "cells": [
  {
   "cell_type": "markdown",
   "metadata": {},
   "source": [
    "## Task 01: \n",
    "1.  Implement a recursive algorithm to find factorial of n.  \n",
    "\n",
    "2.  Implement a recursive algorithm to find the n-th Fibonacci number.  \n",
    "\n",
    "3.  Print all the elements of a given array recursively.\n",
    "\n",
    "4. Given base and n that are both 1 or more, compute recursively (no loops) the value of base  to the n power, so powerN(3, 2) is 9 (3 squared).  powerN(3, 1) → 3  powerN(3, 2) → 9 powerN(3, 3) → 27\n"
   ]
  },
  {
   "cell_type": "code",
   "execution_count": 1,
   "metadata": {},
   "outputs": [
    {
     "name": "stdout",
     "output_type": "stream",
     "text": [
      "24\n",
      "8\n",
      "10 20 30 40 \n",
      "9\n",
      "9\n"
     ]
    }
   ],
   "source": [
    "# 01_1: Factorial n (n!) using recursive algorithm\n",
    "\n",
    "\n",
    "def fact(n):\n",
    "\n",
    "    if (n==0 or n==1):\n",
    "        return 1\n",
    "\n",
    "    else: \n",
    "        return n*fact(n-1)\n",
    "\n",
    "# Test : method call\n",
    "print(fact(4))\n",
    "\n",
    "\n",
    "# 01_2: n-th Fibonacci Number\n",
    "\n",
    "def fibo(n):\n",
    "\n",
    "    if (n==0):\n",
    "        return 0\n",
    "    elif (n==1):\n",
    "        return 1\n",
    "    else: \n",
    "        return fibo(n-1)+fibo(n-2)\n",
    "\n",
    "# Test : method call\n",
    "print(fibo(6))\n",
    "\n",
    "# 01_3: print elements of array recursively\n",
    "\n",
    "def printArray(array, l):\n",
    "    if (l == len(array)):\n",
    "        return\n",
    "    else:\n",
    "        print(array[l], end=\" \")\n",
    "        return printArray(array, l+1)\n",
    "\n",
    "printArray([10,20,30,40],0)\n",
    "\n",
    "print()\n",
    "\n",
    "# 01_4: power(base, n) using recursion\n",
    "\n",
    "def powerN(base, n):\n",
    "    if (n==1):\n",
    "        return base\n",
    "    else:\n",
    "        return base*powerN(base,n-1)\n",
    "\n",
    "print(powerN(3,2))\n",
    "\n",
    "# 01_04: base to the power n alternative & efficient solution: \n",
    "def expoN(base, n):\n",
    "    if (n == 0):\n",
    "        return 1\n",
    "    else:\n",
    "        if (n % 2 == 0):\n",
    "            return (expoN(base, n/2) * expoN(base, n/2))\n",
    "        else:\n",
    "            return (base * expoN(base, n//2) * expoN(base, n//2))\n",
    "\n",
    "# Test Method: expoN\n",
    "print(expoN(3, 2)) # expected output: 27\n"
   ]
  },
  {
   "cell_type": "markdown",
   "metadata": {},
   "source": [
    "## Task 02:  \n",
    "1. Implement a recursive algorithm that takes a decimal number n and converts n to its corresponding (you may return as a string) binary number.\n",
    "2. Implement a recursive algorithm to add all the elements of a non-dummy headed singly linked linear list. Only head of the list will be given as parameter where you may assume every node can contain only integer as its element.\n",
    "Note: you’ll need a Singly Node class for this code.\n",
    "\n",
    "3. Implement a recursive algorithm which will print all the elements of a non-dummy headed singly linked linear list in reversed order.\n",
    "\n",
    "Example: if the linked list contains 10, 20, 30 and 40, the method will print\n",
    "40\n",
    "30\n",
    "20\n",
    "10\n",
    "Note: you’ll need a Singly Node class for this code.\n",
    "\n"
   ]
  },
  {
   "cell_type": "code",
   "execution_count": 2,
   "metadata": {},
   "outputs": [],
   "source": [
    "#Node Class \n",
    "\n",
    "class Node:\n",
    "    def __init__(self, data = None, next = None):\n",
    "        self.data = data\n",
    "        self.next = next\n",
    "\n",
    "i4 = Node(40)\n",
    "i3 = Node(30,i4)\n",
    "i2 = Node(20,i3)\n",
    "i1 = Node(10,i2)"
   ]
  },
  {
   "cell_type": "code",
   "execution_count": 3,
   "metadata": {},
   "outputs": [
    {
     "name": "stdout",
     "output_type": "stream",
     "text": [
      "011\n",
      "100\n",
      "40 30 20 10 "
     ]
    }
   ],
   "source": [
    "# =========02_a: Decimal to Binary  (divide by 2, returns the mods)========\n",
    "\n",
    "def decToBin(n):\n",
    "    if (n == 0):\n",
    "        print(0,end='')\n",
    "        return \n",
    "    else:\n",
    "        decToBin(n//2)\n",
    "        print(n % 2 , end='')\n",
    "\n",
    "# test method decToBin(n) : \n",
    "decToBin(3)\n",
    "print()\n",
    "\n",
    "\n",
    "#============ 02_b : Sum of elements of Linked List===============\n",
    "\n",
    "def sum(node):\n",
    "\n",
    "    if (node.next == None):\n",
    "        return node.data\n",
    "    else: \n",
    "        return node.data + sum(node.next)\n",
    "\n",
    "print(sum(i1))\n",
    "\n",
    "# ========== 02_c: print ll elements in reverse order ==========\n",
    "\n",
    "def printRev(node):\n",
    "\n",
    "    if (node.next == None):\n",
    "        print(node.data, end=\" \")\n",
    "    else:\n",
    "        printRev(node.next)\n",
    "        print(node.data, end=\" \")\n",
    "\n",
    "printRev(i1)\n"
   ]
  },
  {
   "cell_type": "markdown",
   "metadata": {},
   "source": [
    "## Task 03: Hockbuilder"
   ]
  },
  {
   "cell_type": "code",
   "execution_count": 4,
   "metadata": {},
   "outputs": [
    {
     "name": "stdout",
     "output_type": "stream",
     "text": [
      "13\n"
     ]
    }
   ],
   "source": [
    "def hocBuilder(height):\n",
    "    if (height<1):\n",
    "        return 0\n",
    "    elif (height==1):\n",
    "        return 8\n",
    "    else:\n",
    "        return 5 + hocBuilder(height - 1)\n",
    "\n",
    "print(hocBuilder(2))"
   ]
  },
  {
   "cell_type": "markdown",
   "metadata": {},
   "source": [
    "## Task 04 : \n",
    "1. Print the following pattern for the given input (you must use recursion):\n"
   ]
  },
  {
   "cell_type": "code",
   "execution_count": null,
   "metadata": {},
   "outputs": [],
   "source": [
    "# 04_1 : pattern printing using recursion \n",
    "\n",
    "def pattern(n):\n",
    "\n",
    "    if (n==0):\n",
    "        return\n",
    "    else:\n",
    "        pattern(n-1)\n",
    "        print(f\"{n} \"*n)\n",
    "\n",
    "# pattern(5)\n",
    "\n",
    "\n",
    "def printRow(n):\n",
    "    if (n == 0):\n",
    "        return\n",
    "    printRow(n-1)\n",
    "    print(n, end = \" \")\n",
    "\n",
    "def recPattern(n, i): \n",
    "    if (n == 0):\n",
    "        return\n",
    "    print(\"\\n\", end = \" \")\n",
    "    printRow(i)\n",
    "    recPattern(n-1, i+1)\n",
    "\n",
    "recPattern(5,1)"
   ]
  },
  {
   "cell_type": "code",
   "execution_count": null,
   "metadata": {},
   "outputs": [],
   "source": [
    "# 04_a : pattern printing using recursion \n",
    "\n",
    "def printPattern(m):\n",
    "    if (m == 0):\n",
    "        print(\" \")\n",
    "    else:\n",
    "        printPattern(m-1)\n",
    "        printSeq(m)\n",
    "\n",
    "def printSeq(m):\n",
    "    if (m == 0):\n",
    "        print(\" \")\n",
    "    else:\n",
    "        printSeq(m-1)\n",
    "        print(m,end=\" \")\n",
    "\n",
    "printPattern(5)\n",
    "\n",
    "\n",
    "# 04_2 : pattern printing using recursion \n"
   ]
  },
  {
   "cell_type": "code",
   "execution_count": null,
   "metadata": {},
   "outputs": [
    {
     "ename": "",
     "evalue": "",
     "output_type": "error",
     "traceback": [
      "\u001b[1;31mCanceled future for execute_request message before replies were done"
     ]
    },
    {
     "ename": "",
     "evalue": "",
     "output_type": "error",
     "traceback": [
      "The Kernel crashed while executing code in the the current cell or a previous cell. Please review the code in the cell(s) to identify a possible cause of the failure. Click <a href='https://aka.ms/vscodeJupyterKernelCrash'>here</a> for more info. View Jupyter <a href='command:jupyter.viewOutput'>log</a> for further details."
     ]
    }
   ],
   "source": [
    "# From GG\n",
    "def printSpace(m):\n",
    "    \n",
    "    if (m == 0):\n",
    "        return\n",
    "\n",
    "    print(\" \", end=\" \")\n",
    "    printSpace(m - 1)\n",
    "    \n",
    "def printSeq2(m):\n",
    "\n",
    "    if (m == 0):\n",
    "        return\n",
    "\n",
    "    printSeq2(m - 1)\n",
    "    print(m, end =\" \")\n",
    "\n",
    "def pattern(m, n):\n",
    "    if (n == 0):\n",
    "        return\n",
    "    \n",
    "    printSpace(m - 1)\n",
    "    printSeq2(n - m + 1)\n",
    "    print()\n",
    "\n",
    "    pattern(m - 1, n)\n",
    "\n",
    "pattern(5,5)"
   ]
  },
  {
   "cell_type": "markdown",
   "metadata": {},
   "source": [
    "## Task 05 : \n"
   ]
  },
  {
   "cell_type": "code",
   "execution_count": null,
   "metadata": {},
   "outputs": [
    {
     "name": "stdout",
     "output_type": "stream",
     "text": [
      "1. Investent: 25000; Profit: 0.0;\n",
      "2. Investent: 100000; Profit: 3375.0;\n",
      "3. Investent: 250000; Profit: 15375.0;\n",
      "4. Investent: 350000; Profit: 23375.0;\n"
     ]
    }
   ],
   "source": [
    "# Task 5: Investment\n",
    "class FinalQ: \n",
    "\n",
    "    def print(self,array,idx): \n",
    "        if(idx<len(array)): \n",
    "            profit = self.calcProfit(array[idx]) \n",
    "            #TO DO \n",
    "            print(f\"{idx+1}. Investent: {array[idx]}; Profit: {profit};\")\n",
    "            self.print(array, idx+1)\n",
    "\n",
    "    def calcProfit(self,investment): \n",
    "        if (investment <= 25000):\n",
    "            return 0.0\n",
    "        elif (investment > 25000 and investment <= 100000):\n",
    "            return 45 + self.calcProfit(investment-1000)\n",
    "        elif (investment > 100000):\n",
    "            return 80 + self.calcProfit(investment-1000)\n",
    "        else:\n",
    "            return 0\n",
    "#Tester \n",
    "array = [25000,100000,250000,350000] \n",
    "f = FinalQ() \n",
    "f.print(array,0)\n"
   ]
  }
 ],
 "metadata": {
  "kernelspec": {
   "display_name": "Python 3.10.5 64-bit",
   "language": "python",
   "name": "python3"
  },
  "language_info": {
   "codemirror_mode": {
    "name": "ipython",
    "version": 3
   },
   "file_extension": ".py",
   "mimetype": "text/x-python",
   "name": "python",
   "nbconvert_exporter": "python",
   "pygments_lexer": "ipython3",
   "version": "3.10.5"
  },
  "orig_nbformat": 4,
  "vscode": {
   "interpreter": {
    "hash": "2f618269b973d24085f675b42f2810613f479d8adb53313aa29e50ef167b85a5"
   }
  }
 },
 "nbformat": 4,
 "nbformat_minor": 2
}
