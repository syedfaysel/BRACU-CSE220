{
 "cells": [
  {
   "cell_type": "markdown",
   "metadata": {},
   "source": [
    "## 1 : Sort an array Recursively using selection sort algorithm"
   ]
  },
  {
   "cell_type": "code",
   "execution_count": 4,
   "metadata": {},
   "outputs": [
    {
     "ename": "TypeError",
     "evalue": "list indices must be integers or slices, not NoneType",
     "output_type": "error",
     "traceback": [
      "\u001b[1;31m---------------------------------------------------------------------------\u001b[0m",
      "\u001b[1;31mTypeError\u001b[0m                                 Traceback (most recent call last)",
      "\u001b[1;32me:\\Study\\Code on VScode\\Programming Workspace\\All Python\\Data Structure\\cse220\\Labs\\Lab8\\rough.ipynb Cell 2\u001b[0m in \u001b[0;36m<cell line: 36>\u001b[1;34m()\u001b[0m\n\u001b[0;32m     <a href='vscode-notebook-cell:/e%3A/Study/Code%20on%20VScode/Programming%20Workspace/All%20Python/Data%20Structure/cse220/Labs/Lab8/rough.ipynb#W1sZmlsZQ%3D%3D?line=33'>34</a>\u001b[0m \u001b[39m# ======================\u001b[39;00m\n\u001b[0;32m     <a href='vscode-notebook-cell:/e%3A/Study/Code%20on%20VScode/Programming%20Workspace/All%20Python/Data%20Structure/cse220/Labs/Lab8/rough.ipynb#W1sZmlsZQ%3D%3D?line=34'>35</a>\u001b[0m a \u001b[39m=\u001b[39m [\u001b[39m20\u001b[39m, \u001b[39m10\u001b[39m, \u001b[39m40\u001b[39m, \u001b[39m30\u001b[39m]\n\u001b[1;32m---> <a href='vscode-notebook-cell:/e%3A/Study/Code%20on%20VScode/Programming%20Workspace/All%20Python/Data%20Structure/cse220/Labs/Lab8/rough.ipynb#W1sZmlsZQ%3D%3D?line=35'>36</a>\u001b[0m recurSelectionSort(a, \u001b[39m0\u001b[39;49m, \u001b[39m3\u001b[39;49m)\n\u001b[0;32m     <a href='vscode-notebook-cell:/e%3A/Study/Code%20on%20VScode/Programming%20Workspace/All%20Python/Data%20Structure/cse220/Labs/Lab8/rough.ipynb#W1sZmlsZQ%3D%3D?line=36'>37</a>\u001b[0m \u001b[39mprint\u001b[39m(a)\n",
      "\u001b[1;32me:\\Study\\Code on VScode\\Programming Workspace\\All Python\\Data Structure\\cse220\\Labs\\Lab8\\rough.ipynb Cell 2\u001b[0m in \u001b[0;36mrecurSelectionSort\u001b[1;34m(a, l, r)\u001b[0m\n\u001b[0;32m     <a href='vscode-notebook-cell:/e%3A/Study/Code%20on%20VScode/Programming%20Workspace/All%20Python/Data%20Structure/cse220/Labs/Lab8/rough.ipynb#W1sZmlsZQ%3D%3D?line=24'>25</a>\u001b[0m     \u001b[39mreturn\u001b[39;00m\n\u001b[0;32m     <a href='vscode-notebook-cell:/e%3A/Study/Code%20on%20VScode/Programming%20Workspace/All%20Python/Data%20Structure/cse220/Labs/Lab8/rough.ipynb#W1sZmlsZQ%3D%3D?line=26'>27</a>\u001b[0m \u001b[39melse\u001b[39;00m: \n\u001b[1;32m---> <a href='vscode-notebook-cell:/e%3A/Study/Code%20on%20VScode/Programming%20Workspace/All%20Python/Data%20Structure/cse220/Labs/Lab8/rough.ipynb#W1sZmlsZQ%3D%3D?line=27'>28</a>\u001b[0m     minIdx \u001b[39m=\u001b[39m findMin(a, l)\n\u001b[0;32m     <a href='vscode-notebook-cell:/e%3A/Study/Code%20on%20VScode/Programming%20Workspace/All%20Python/Data%20Structure/cse220/Labs/Lab8/rough.ipynb#W1sZmlsZQ%3D%3D?line=28'>29</a>\u001b[0m     swap(a, l, minIdx)\n\u001b[0;32m     <a href='vscode-notebook-cell:/e%3A/Study/Code%20on%20VScode/Programming%20Workspace/All%20Python/Data%20Structure/cse220/Labs/Lab8/rough.ipynb#W1sZmlsZQ%3D%3D?line=29'>30</a>\u001b[0m     \u001b[39mreturn\u001b[39;00m recurSelectionSort(a, l\u001b[39m+\u001b[39m\u001b[39m1\u001b[39m, r)\n",
      "\u001b[1;32me:\\Study\\Code on VScode\\Programming Workspace\\All Python\\Data Structure\\cse220\\Labs\\Lab8\\rough.ipynb Cell 2\u001b[0m in \u001b[0;36mfindMin\u001b[1;34m(a, l)\u001b[0m\n\u001b[0;32m      <a href='vscode-notebook-cell:/e%3A/Study/Code%20on%20VScode/Programming%20Workspace/All%20Python/Data%20Structure/cse220/Labs/Lab8/rough.ipynb#W1sZmlsZQ%3D%3D?line=6'>7</a>\u001b[0m k \u001b[39m=\u001b[39m findMin(a, l\u001b[39m+\u001b[39m\u001b[39m1\u001b[39m)\n\u001b[0;32m      <a href='vscode-notebook-cell:/e%3A/Study/Code%20on%20VScode/Programming%20Workspace/All%20Python/Data%20Structure/cse220/Labs/Lab8/rough.ipynb#W1sZmlsZQ%3D%3D?line=7'>8</a>\u001b[0m \u001b[39m# mid = (l+r)//2\u001b[39;00m\n\u001b[0;32m      <a href='vscode-notebook-cell:/e%3A/Study/Code%20on%20VScode/Programming%20Workspace/All%20Python/Data%20Structure/cse220/Labs/Lab8/rough.ipynb#W1sZmlsZQ%3D%3D?line=8'>9</a>\u001b[0m \u001b[39m# minLeft = findMin(a, l, mid-1)\u001b[39;00m\n\u001b[0;32m     <a href='vscode-notebook-cell:/e%3A/Study/Code%20on%20VScode/Programming%20Workspace/All%20Python/Data%20Structure/cse220/Labs/Lab8/rough.ipynb#W1sZmlsZQ%3D%3D?line=9'>10</a>\u001b[0m \u001b[39m# minRight = findMin(a, mid+1, r)\u001b[39;00m\n\u001b[0;32m     <a href='vscode-notebook-cell:/e%3A/Study/Code%20on%20VScode/Programming%20Workspace/All%20Python/Data%20Structure/cse220/Labs/Lab8/rough.ipynb#W1sZmlsZQ%3D%3D?line=10'>11</a>\u001b[0m \n\u001b[0;32m     <a href='vscode-notebook-cell:/e%3A/Study/Code%20on%20VScode/Programming%20Workspace/All%20Python/Data%20Structure/cse220/Labs/Lab8/rough.ipynb#W1sZmlsZQ%3D%3D?line=11'>12</a>\u001b[0m \u001b[39m# minIdx = minLeft\u001b[39;00m\n\u001b[1;32m---> <a href='vscode-notebook-cell:/e%3A/Study/Code%20on%20VScode/Programming%20Workspace/All%20Python/Data%20Structure/cse220/Labs/Lab8/rough.ipynb#W1sZmlsZQ%3D%3D?line=13'>14</a>\u001b[0m \u001b[39mif\u001b[39;00m (a[l] \u001b[39m>\u001b[39m a[k]):\n\u001b[0;32m     <a href='vscode-notebook-cell:/e%3A/Study/Code%20on%20VScode/Programming%20Workspace/All%20Python/Data%20Structure/cse220/Labs/Lab8/rough.ipynb#W1sZmlsZQ%3D%3D?line=14'>15</a>\u001b[0m     \u001b[39mreturn\u001b[39;00m k\n",
      "\u001b[1;31mTypeError\u001b[0m: list indices must be integers or slices, not NoneType"
     ]
    }
   ],
   "source": [
    "# Task 1: selection sort\n",
    "\n",
    "def findMin(a, l = 0):\n",
    "    if (l== len(a)-1):\n",
    "        return l\n",
    "    else:\n",
    "        k = findMin(a, l+1)\n",
    "        # mid = (l+r)//2\n",
    "        # minLeft = findMin(a, l, mid-1)\n",
    "        # minRight = findMin(a, mid+1, r)\n",
    "\n",
    "        # minIdx = minLeft\n",
    "\n",
    "        if (a[l] > a[k]):\n",
    "            return k\n",
    "\n",
    "def swap(a, l, r):\n",
    "    temp = a[l]\n",
    "    a[l] = a[r]\n",
    "    a[r] = temp\n",
    "\n",
    "\n",
    "def recurSelectionSort(a, l, r):\n",
    "    if l >= r:\n",
    "        return\n",
    "    \n",
    "    else: \n",
    "        minIdx = findMin(a, l)\n",
    "        swap(a, l, minIdx)\n",
    "        return recurSelectionSort(a, l+1, r)\n",
    "\n",
    "\n",
    "\n",
    "# ======================\n",
    "a = [20, 10, 40, 30]\n",
    "recurSelectionSort(a, 0, 3)\n",
    "print(a)"
   ]
  },
  {
   "cell_type": "code",
   "execution_count": 5,
   "metadata": {},
   "outputs": [
    {
     "name": "stdout",
     "output_type": "stream",
     "text": [
      "[10, 20, 30, 40]\n"
     ]
    }
   ],
   "source": [
    "# Task 2 : Insertion sort recursive:\n",
    "\n",
    "def insertionSort(a, l, r):\n",
    "    if  l>=r:\n",
    "        return\n",
    "    else:\n",
    "        insertionSort(a, l, r-1)\n",
    "        temp = a[r+1]\n",
    "        j = r + 1\n",
    "        while(j >= 0 and temp > a[j]):\n",
    "            a[j+1] = a[j]\n",
    "            j -=1\n",
    "        a[j+1] = temp\n",
    "\n",
    "\n",
    "a = [10, 30, 20, 40]\n",
    "# insertionSort(a, 3,  )\n",
    "# print(a)\n",
    "\n",
    "\n",
    "def recurInsertion(a, n):\n",
    "    if n <= 1:\n",
    "        return\n",
    "\n",
    "    recurInsertion(a, n-1)\n",
    "    last = a[n-1]\n",
    "    j = n-2 \n",
    "\n",
    "    while(j >=0 and a[j]>last):\n",
    "        a[j+1] = a[j]\n",
    "        j -=1\n",
    "    a[j+1] = last\n",
    "\n",
    "recurInsertion(a, len(a))\n",
    "print(a)\n"
   ]
  },
  {
   "cell_type": "code",
   "execution_count": 5,
   "metadata": {},
   "outputs": [
    {
     "name": "stdout",
     "output_type": "stream",
     "text": [
      "[1, 2, 3, 4, 5]\n"
     ]
    }
   ],
   "source": [
    "# Task 03:\n",
    "# bubble sort\n",
    "\n",
    "def bubbleSort(a,n):\n",
    "\n",
    "    if (n == 0):\n",
    "        return\n",
    "    \n",
    "    else:\n",
    "        for i in range(n-1):\n",
    "            if (a[i] > a[i+1]):\n",
    "\n",
    "                # swap\n",
    "                temp = a[i]\n",
    "                a[i] = a[i+1]\n",
    "                a[i+1] = temp\n",
    "\n",
    "        bubbleSort(a, n-1)\n",
    "\n",
    "a = [1,3,2,5,4]\n",
    "bubbleSort(a, len(a))\n",
    "print(a)"
   ]
  },
  {
   "cell_type": "code",
   "execution_count": 2,
   "metadata": {},
   "outputs": [
    {
     "name": "stdout",
     "output_type": "stream",
     "text": [
      "-1\n"
     ]
    }
   ],
   "source": [
    "# Task 6 : Binary search using recursive\n",
    "\n",
    "def recBinarySearch(a,l,r, k):\n",
    "\n",
    "    if (l>r):\n",
    "        return -1\n",
    "    else:\n",
    "        mid = (l+r)//2\n",
    "\n",
    "        if (a[mid] == k):\n",
    "            return mid\n",
    "        elif (k > a[mid]):\n",
    "            return recBinarySearch(a, mid + 1, r, k)\n",
    "        \n",
    "        else:\n",
    "            return recBinarySearch(a, l, mid-1, k)\n",
    "        \n",
    "\n",
    "a = [10, 20, 30, 40]\n",
    "print(recBinarySearch(a, 0, 3, 8))\n"
   ]
  },
  {
   "cell_type": "code",
   "execution_count": null,
   "metadata": {},
   "outputs": [],
   "source": []
  }
 ],
 "metadata": {
  "kernelspec": {
   "display_name": "Python 3.10.5 64-bit",
   "language": "python",
   "name": "python3"
  },
  "language_info": {
   "codemirror_mode": {
    "name": "ipython",
    "version": 3
   },
   "file_extension": ".py",
   "mimetype": "text/x-python",
   "name": "python",
   "nbconvert_exporter": "python",
   "pygments_lexer": "ipython3",
   "version": "3.10.5"
  },
  "orig_nbformat": 4,
  "vscode": {
   "interpreter": {
    "hash": "2f618269b973d24085f675b42f2810613f479d8adb53313aa29e50ef167b85a5"
   }
  }
 },
 "nbformat": 4,
 "nbformat_minor": 2
}
