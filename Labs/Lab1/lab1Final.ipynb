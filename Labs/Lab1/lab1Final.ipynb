{
 "cells": [
  {
   "cell_type": "code",
   "execution_count": 2,
   "metadata": {},
   "outputs": [
    {
     "name": "stdout",
     "output_type": "stream",
     "text": [
      "[40, 50, 60, 0, 0, 0]\n"
     ]
    }
   ],
   "source": [
    "# Task 1\n",
    "\n",
    "def shiftLeft(source,k):\n",
    "    \n",
    "    i = 0\n",
    "    while(i<len(source)-k):\n",
    "        source[i]= source[i+k]\n",
    "\n",
    "        i+=1\n",
    "\n",
    " \n",
    "    j = len(source) - k\n",
    "    while(j<len(source)):\n",
    "        source[j]=0\n",
    "        j+=1  \n",
    "\n",
    "arr1 = [10,20,30,40,50,60]\n",
    "shiftLeft(arr1,3)\n",
    "print(arr1)\n"
   ]
  },
  {
   "cell_type": "code",
   "execution_count": 4,
   "metadata": {},
   "outputs": [
    {
     "name": "stdout",
     "output_type": "stream",
     "text": [
      "[40, 50, 60, 10, 20, 30]\n"
     ]
    }
   ],
   "source": [
    "# Task 2\n",
    "\n",
    "def rotateLeft(source,k):\n",
    "\n",
    "    temp = [0]*k\n",
    "    for i in range(k):\n",
    "        temp[i] = source[i]\n",
    "\n",
    "    i = 0\n",
    "\n",
    "    # Using only single loop\n",
    "    while(i<len(source)):\n",
    "        if (i<len(source)-k):\n",
    "            source[i]= source[i+k]\n",
    "            i+=1\n",
    "        else:\n",
    "            source[i] = temp[i-(len(source) - k)]\n",
    "            i +=1\n",
    "\n",
    "arr1 = [10,20,30,40,50,60]\n",
    "\n",
    "rotateLeft(arr1,3)\n",
    "print(arr1)"
   ]
  },
  {
   "cell_type": "code",
   "execution_count": 5,
   "metadata": {},
   "outputs": [
    {
     "name": "stdout",
     "output_type": "stream",
     "text": [
      "[0, 0, 0, 10, 20, 30]\n"
     ]
    }
   ],
   "source": [
    "# Task 3\n",
    "\n",
    "def shiftRight(source, k):\n",
    "    i = len(source) - 1\n",
    "\n",
    "    while(i>=k):\n",
    "\n",
    "        source[i] = source[i-k]\n",
    "\n",
    "        i-=1\n",
    "    \n",
    "    # setting the rest (k number of items) index values to zero\n",
    "    for i in range(0,k):\n",
    "        source[i] = 0\n",
    "\n",
    "arr1 = [10,20,30,40,50,60]\n",
    "\n",
    "\n",
    "shiftRight(arr1,3)\n",
    "# Hence, array is reference data type, the actual value has been changed\n",
    "print(arr1)"
   ]
  },
  {
   "cell_type": "code",
   "execution_count": 10,
   "metadata": {},
   "outputs": [
    {
     "name": "stdout",
     "output_type": "stream",
     "text": [
      "[40, 50, 60, 10, 20, 30]\n"
     ]
    }
   ],
   "source": [
    "# Task 4\n",
    "# Rotate Right by k cells\n",
    "\n",
    "def rotateRight(source, k):\n",
    "\n",
    "    # temp = [i for i in source[len(source)-k:]]\n",
    "    temp = [0]*k\n",
    "    x = 0\n",
    "    for i in range(len(source)-k,len(source)):\n",
    "        temp[x] = source[i]\n",
    "        x+=1\n",
    "\n",
    "    #using for loop this time\n",
    "\n",
    "    for i in range(len(source)-1,-1,-1):\n",
    "        if (i>=k):\n",
    "            source[i]= source[i-k]\n",
    "        else:\n",
    "            source[i] = temp[i]\n",
    "\n",
    "arr1=[10,20,30,40,50,60]\n",
    "\n",
    "rotateRight(arr1,3)\n",
    "print(arr1)\n"
   ]
  },
  {
   "cell_type": "code",
   "execution_count": 11,
   "metadata": {},
   "outputs": [
    {
     "name": "stdout",
     "output_type": "stream",
     "text": [
      "[10, 20, 40, 50, 0, 0, 0]\n"
     ]
    }
   ],
   "source": [
    "# Task 5 \n",
    "# remove item from array\n",
    "\n",
    "\n",
    "def remove(source,size, idx):\n",
    "    for i in range(idx, size-1):\n",
    "        source[i] = source [i+1]\n",
    "    \n",
    "    source[size-1] = 0\n",
    "\n",
    "\n",
    "arr1=[10,20,30,40,50,0,0]\n",
    "remove(arr1,5,2)\n",
    "print(arr1)"
   ]
  },
  {
   "cell_type": "code",
   "execution_count": 12,
   "metadata": {},
   "outputs": [
    {
     "name": "stdout",
     "output_type": "stream",
     "text": [
      "[10, 30, 50, 0, 0, 0, 0, 0, 0]\n"
     ]
    }
   ],
   "source": [
    "# Task 6\n",
    "# Remove all occurence \n",
    "\n",
    "def removeAll( source, size, element ):\n",
    "\n",
    "    count = 0\n",
    "    for i in range(size):\n",
    "        if source[i] == element:\n",
    "            count +=1\n",
    "\n",
    "            for j in range(i,size):\n",
    "                if (j<(size-1)-count):\n",
    "                    source[j] = source[j+1]\n",
    "                else:\n",
    "                    source[j] = 0\n",
    "                        \n",
    "\n",
    "source=[10,2,30,2,50,2,2,0,0] \n",
    "removeAll(source,7,2)\n",
    "\n",
    "print(source)\n"
   ]
  },
  {
   "cell_type": "code",
   "execution_count": null,
   "metadata": {},
   "outputs": [],
   "source": [
    "# Task 7\n",
    "# Splitting an Array\n",
    "\n",
    "\n",
    "def splitting_array(source):\n",
    "    left_pan = [0]\n",
    "    right_pan = []\n",
    "    flag = None\n",
    "\n",
    "    for i in range(len(source)):\n",
    "        if i == 0:\n",
    "            left_pan[i] = source[i]\n",
    "            # splitting (i+1 -----> last index) to the right pan\n",
    "            right_pan = source[i + 1 : (len(source))]\n",
    "            # Checking if the sum of the values in both pan same or not\n",
    "            if sum(left_pan) == sum(right_pan):\n",
    "                flag = True\n",
    "                break\n",
    "            else:\n",
    "                left_pan = []\n",
    "        \n",
    "                flag = False\n",
    "\n",
    "        # if the index is not 0, \n",
    "        # splitting the values of the source array into both of the pan \n",
    "        # such way that (0----->i) in left pan & (i+1 ------> last index) in the right pan\n",
    "        else:\n",
    "            left_pan = source[0 : i + 1]\n",
    "            right_pan = source[i + 1 : (len(source))]\n",
    "\n",
    "            # Checking if the sum of the values in both pan same or not\n",
    "            if sum(left_pan) == sum(right_pan):\n",
    "                flag = True\n",
    "                break\n",
    "            else:\n",
    "                flag = False\n",
    "    return flag\n",
    "\n",
    "\n",
    "arr1 = [2,1,1,2,1] \n",
    "splitting_array(arr1) #false\n",
    "\n",
    "arr2 = [10,3,1,2,10] \n",
    "print(splitting_array(arr2)) # true\n"
   ]
  },
  {
   "cell_type": "code",
   "execution_count": null,
   "metadata": {},
   "outputs": [],
   "source": [
    "# Task 8: Array series \n",
    "\n",
    "def array_series(n):\n",
    "\n",
    "    array = [0]*(n*n)\n",
    "\n",
    "    for i in range(1,n+1): \n",
    "\n",
    "        for j in range(1,i+1):\n",
    " \n",
    "            array[(i*n)-j] = j\n",
    "\n",
    "    return array\n",
    "\n",
    "\n",
    "print(array_series(4))"
   ]
  },
  {
   "cell_type": "code",
   "execution_count": null,
   "metadata": {},
   "outputs": [],
   "source": [
    "# Task 9\n",
    "# Max bunch count\n",
    "\n",
    "def max_bunch(source):\n",
    "\n",
    "    count = 0\n",
    "    max_count = 0\n",
    "\n",
    "    for i in range(len(source)-1):\n",
    "\n",
    "        if source[i] == source[i+1]:\n",
    "            count +=1\n",
    "            max_count = count\n",
    "        else:\n",
    "            count = 1\n",
    "\n",
    "    return max_count\n",
    "\n",
    "\n",
    "arr1 = [1,2,2]\n",
    "print(max_bunch(arr1))\n",
    "\n",
    "arr2 = [1,1,2,2,1,1,1,1]\n",
    "print(max_bunch(arr2))\n"
   ]
  },
  {
   "cell_type": "code",
   "execution_count": null,
   "metadata": {},
   "outputs": [],
   "source": [
    "# Task 10: \n",
    "# Reptition \n",
    "\n",
    "def repetition(source): \n",
    "\n",
    "    flag = False\n",
    "\n",
    "    items = [0]*len(source)\n",
    "    count_repeat = [0]*len(source)\n",
    "\n",
    "    repeated = 0 # number of repeated items\n",
    "\n",
    "    for i in range(len(source)-1):\n",
    "        bool = True\n",
    "        count = 1\n",
    "\n",
    "        \n",
    "        for x in range(repeated):\n",
    "            if (items[x]==source[i]):\n",
    "\n",
    "                bool = False\n",
    "\n",
    "        \n",
    "        if bool == True:\n",
    "            item = source[i]\n",
    "\n",
    "\n",
    "            for y in range(i+1,len(source)):\n",
    "\n",
    "                if source[y] == item:\n",
    "                    count +=1\n",
    "            \n",
    "            if count>1:\n",
    "                items[repeated] = item\n",
    "                count_repeat[repeated] = count\n",
    "                repeated+=1\n",
    "    \n",
    "    # Check at least 2 of the count of repetition are same or not\n",
    "    for i in range(repeated-1):\n",
    "\n",
    "            for j in range(i+1,repeated):\n",
    "\n",
    "                if count_repeat[i] == count_repeat[j]:\n",
    "                    flag = True\n",
    "                    break\n",
    "\n",
    "                    \n",
    "    return flag\n",
    "                    \n",
    "arr1 = [1,2,3,2,3]\n",
    "\n",
    "print(repetition(arr1))\n"
   ]
  }
 ],
 "metadata": {
  "interpreter": {
   "hash": "11938c6bc6919ae2720b4d5011047913343b08a43b18698fd82dedb0d4417594"
  },
  "kernelspec": {
   "display_name": "Python 3.9.6 64-bit",
   "language": "python",
   "name": "python3"
  },
  "language_info": {
   "codemirror_mode": {
    "name": "ipython",
    "version": 3
   },
   "file_extension": ".py",
   "mimetype": "text/x-python",
   "name": "python",
   "nbconvert_exporter": "python",
   "pygments_lexer": "ipython3",
   "version": "3.9.6"
  },
  "orig_nbformat": 4
 },
 "nbformat": 4,
 "nbformat_minor": 2
}
