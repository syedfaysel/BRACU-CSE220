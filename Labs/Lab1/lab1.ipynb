{
 "cells": [
  {
   "cell_type": "markdown",
   "metadata": {},
   "source": [
    "### Task 1 :  Shift Left k Cells\n",
    "Consider an array named source. Write a method/function named shiftLeft( source, k) that shifts all the elements of the source array to the left by 'k' positions. You must execute the method by passing an array and number of cells to be shifted. After calling the method, print the array to show whether the elements have been shifted properly.\n",
    "Example:\n",
    "source=[10,20,30,40,50,60]\n",
    "shiftLeft(source,3)\n",
    "After calling shiftLeft(source,3), printing the array should give the output as: \n",
    " [ 40, 50, 60, 0, 0, 0 ]\n"
   ]
  },
  {
   "cell_type": "code",
   "execution_count": 4,
   "metadata": {},
   "outputs": [
    {
     "name": "stdout",
     "output_type": "stream",
     "text": [
      "[40, 50, 60, 0, 0, 0]\n"
     ]
    }
   ],
   "source": [
    "# Task 1 \n",
    "\n",
    "def shiftLeft(source,k):\n",
    "    \n",
    "    i = 0\n",
    "    while(i<len(source)-k):\n",
    "        source[i]= source[i+k]\n",
    "\n",
    "        i+=1\n",
    "\n",
    " \n",
    "    j = len(source) - k\n",
    "    while(j<len(source)):\n",
    "        source[j]=0\n",
    "        j+=1  \n",
    "\n",
    "    return(source)\n",
    "\n",
    "arr1 = [10,20,30,40,50,60]\n",
    "\n",
    "shiftLeft(arr1,3)\n",
    "\n",
    "print(arr1)"
   ]
  },
  {
   "cell_type": "markdown",
   "metadata": {},
   "source": [
    "### Task 2: Rotate Left k cells\n",
    "Consider an array named source. Write a method/function named rotateLeft( source, k) that rotates all the elements of the source array to the left by 'k' positions. You must execute the method by passing an array and number of cells to be shifted. After calling the method, print the array to show whether the elements have been shifted properly.\n",
    "Example:\n",
    "source=[10,20,30,40,50,60]\n",
    "rotateLeft(source,3)\n",
    "After calling rotateLeft(source,3), printing the array should give the output as: \n",
    " [ 40, 50, 60, 10, 20, 30]\n"
   ]
  },
  {
   "cell_type": "code",
   "execution_count": 18,
   "metadata": {},
   "outputs": [
    {
     "name": "stdout",
     "output_type": "stream",
     "text": [
      "[40, 50, 60, 10, 20, 30]\n"
     ]
    }
   ],
   "source": [
    "# Task 2\n",
    "\n",
    "def rotateLeft(source,k):\n",
    "\n",
    "    temp = [i for i in source[:k]]\n",
    "\n",
    "    i = 0\n",
    "\n",
    "    # Using only single loop\n",
    "    while(i<len(source)):\n",
    "        if (i<len(source)-k):\n",
    "            source[i]= source[i+k]\n",
    "            i+=1\n",
    "        else:\n",
    "            source[i] = temp[i-(len(source) - k)]\n",
    "            i +=1\n",
    "        \n",
    "    return source\n",
    "\n",
    "\n",
    "arr1 = [10,20,30,40,50,60]\n",
    "\n",
    "rotateLeft(arr1,3)\n",
    "print(arr1)"
   ]
  },
  {
   "cell_type": "markdown",
   "metadata": {},
   "source": [
    "### Task 3: Shift Right k Cells\n",
    "Consider an array named source. Write a method/function named shifRight( source, k) that shifts all the elements of the source array to the right by 'k' positions. You must execute the method by passing an array and number of cells to be shifted. After calling the method, print the array to show whether the elements have been shifted properly.\n",
    "Example:\n",
    "source=[10,20,30,40,50,60]\n",
    "shiftRight(source,3)\n",
    "After calling shiftRight(source,3), printing the array should give the output as: \n",
    " [ 0,0,0,10,20,30 ]\n"
   ]
  },
  {
   "cell_type": "code",
   "execution_count": 4,
   "metadata": {},
   "outputs": [
    {
     "name": "stdout",
     "output_type": "stream",
     "text": [
      "[0, 0, 0, 10, 20, 30]\n"
     ]
    }
   ],
   "source": [
    "# Task 3 \n",
    "# Shift Right k cells\n",
    "\n",
    "def shiftRight(source, k):\n",
    "    i = len(source) - 1\n",
    "\n",
    "    while(i>=k):\n",
    "\n",
    "        source[i] = source[i-k]\n",
    "\n",
    "        i-=1\n",
    "    \n",
    "    # setting the rest (k number of items) index values to zero\n",
    "    for i in range(0,k):\n",
    "        source[i] = 0\n",
    "\n",
    "    return source\n",
    "\n",
    "\n",
    "arr1 = [10,20,30,40,50,60]\n",
    "\n",
    "# print(shiftRight(arr1,3))\n",
    "\n",
    "shiftRight(arr1,3)\n",
    "# Hence, array is reference data type, the actual value has been changed\n",
    "print(arr1)\n"
   ]
  },
  {
   "cell_type": "markdown",
   "metadata": {},
   "source": [
    "### Task 4: Rotate Right k cells\n",
    "\n",
    "Consider an array named source. Write a method/function named rotateRight( source, k) that rotates all the elements of the source array to the right by 'k' positions. You must execute the method by passing an array and number of cells to be shifted. After calling the method, print the array to show whether the elements have been shifted properly.\n",
    "Example:\n",
    "source=[10,20,30,40,50,60]\n",
    "rotateRight(source,3)\n",
    "After calling rotateRight(source,3), printing the array should give the output as: \n",
    " [ 40, 50, 60, 10, 20, 30]\n"
   ]
  },
  {
   "cell_type": "code",
   "execution_count": 15,
   "metadata": {},
   "outputs": [
    {
     "name": "stdout",
     "output_type": "stream",
     "text": [
      "[40, 50, 60, 10, 20, 30]\n"
     ]
    }
   ],
   "source": [
    "# Task 4\n",
    "# Rotate Right by k cells\n",
    "\n",
    "def RotateRight(source, k):\n",
    "\n",
    "    temp = [i for i in source[len(source)-k:]]\n",
    "\n",
    "    #using for loop this time\n",
    "\n",
    "    for i in range(len(source)-1,-1,-1):\n",
    "        if (i>=k):\n",
    "            source[i]= source[i-k]\n",
    "        else:\n",
    "            source[i] = temp[i]\n",
    "\n",
    "    return source\n",
    "\n",
    "arr1=[10,20,30,40,50,60]\n",
    "\n",
    "print(RotateRight(arr1,3))"
   ]
  },
  {
   "cell_type": "markdown",
   "metadata": {},
   "source": [
    "### Task 5: Remove an element from an array :  \n",
    "Consider an array named source. Write a method/function named remove( source, size, idx) that removes the element in index idx of the source array. You must execute the method by passing an array, its size and the idx( that is the index of the element to be removed). After calling the method, print the array to show whether the element of that particular index has been removed properly.\n",
    "Example:\n",
    "source=[10,20,30,40,50,0,0]\n",
    "remove(source,5,2)\n",
    "After calling remove(source,5,2) , printing the array should give the output as: \n",
    " [ 10,20,40,50,0,0,0]\n"
   ]
  },
  {
   "cell_type": "code",
   "execution_count": 1,
   "metadata": {},
   "outputs": [
    {
     "name": "stdout",
     "output_type": "stream",
     "text": [
      "[10, 20, 40, 50, None, 0, 0]\n"
     ]
    }
   ],
   "source": [
    "# Task 5 \n",
    "# remove item from array\n",
    "\n",
    "\n",
    "def remove(source,size, index):\n",
    "    for i in range(index, size-1):\n",
    "        source[i] = source [i+1]\n",
    "    \n",
    "    source[size-1] = 0\n",
    "\n",
    "    return source\n",
    "\n",
    "arr1=[10,20,30,40,50,0,0]\n",
    "remove(arr1,5,2)\n",
    "\n",
    "print(arr1)"
   ]
  },
  {
   "cell_type": "markdown",
   "metadata": {},
   "source": [
    "### Task 6: Remove all occurence  \n",
    "Consider an array named source. Write a method/function named removeAll( source, size, element) that removes all the occurrences of the given element in the source array. You must execute the method by passing an array, its size and the element to be removed. After calling the method, print the array to show whether all the occurrences of the element have been removed properly.\n",
    "Example:\n",
    "source=[10,2,30,2,50,2,2,0,0]\n",
    "removeAll(source,7,2)\n",
    "After calling removeAll(source,7,2), all the occurrences of 2 must be removed. Printing the array afterwards should give the output as: \n",
    " [ 10,30,50,0,0,0,0,0,0]\n"
   ]
  },
  {
   "cell_type": "code",
   "execution_count": 2,
   "metadata": {},
   "outputs": [
    {
     "name": "stdout",
     "output_type": "stream",
     "text": [
      "[10, 30, 50, None, None, None, None, 0, 0]\n"
     ]
    }
   ],
   "source": [
    "# Task 6\n",
    "# Remove all occurence \n",
    "\n",
    "def removeAll( source, size, element):\n",
    "\n",
    "    count = 0\n",
    "    for i in range(size):\n",
    "        if source[i] == element:\n",
    "            count +=1\n",
    "\n",
    "            for j in range(i,size):\n",
    "                if (j<(size-1)-count):\n",
    "                    source[j] = source[j+1]\n",
    "                else:\n",
    "                    source[j] = 0\n",
    "                        \n",
    "            \n",
    "            \n",
    "    return source\n",
    "\n",
    "source=[10,2,30,2,50,2,2,0,0] \n",
    "removeAll(source,7,2)\n",
    "\n",
    "print(source)"
   ]
  },
  {
   "cell_type": "markdown",
   "metadata": {},
   "source": [
    "### Task 7: Splitting An array  \n",
    "Suppose the elements of an array A containing positive integers, denote the weights in kilograms. And we have a beam balance. We want to put the weights on both pans of the balance in such a way that for some index 0 < i < A.length - 1, all values starting from A[0], A[1], upto A[ i - 1], should be on the left pan. And all values starting from A[ i ] upto A[ A.length - 1] should be on the right pan and the left and right pan should be balanced. If such an i exists, return true . Else, return false. \n",
    "Input: [1, 1, 1, 2, 1]\tOutput : true\n",
    "Explanation: (summation of [1, 1, 1] = summation of [2,1])\n",
    "Input: [2, 1, 1, 2, 1] Output: false\n",
    "Input: [10, 3, 1, 2, 10]  Output: true \n",
    "Explanation: (summation of [10, 3] = summation of [1,2,10]))\n"
   ]
  },
  {
   "cell_type": "code",
   "execution_count": 8,
   "metadata": {},
   "outputs": [
    {
     "name": "stdout",
     "output_type": "stream",
     "text": [
      "False\n",
      "True\n"
     ]
    }
   ],
   "source": [
    "# Task 7\n",
    "# Splitting an Array\n",
    "\n",
    "\n",
    "def splitting_array(source):\n",
    "    left_pan = [0]\n",
    "    right_pan = []\n",
    "    flag = None\n",
    "\n",
    "    for i in range(len(source)):\n",
    "        if i == 0:\n",
    "            left_pan[i] = source[i]\n",
    "            # splitting (i+1 -----> last index) to the right pan\n",
    "            right_pan = source[i + 1 : (len(source))]\n",
    "            # Checking if the sum of the values in both pan same or not\n",
    "            if sum(left_pan) == sum(right_pan):\n",
    "                flag = True\n",
    "                break\n",
    "            else:\n",
    "                left_pan = []\n",
    "        \n",
    "                flag = False\n",
    "\n",
    "        # if the index is not 0, \n",
    "        # splitting the values of the source array into both of the pan \n",
    "        # such way that (0----->i) in left pan & (i+1 ------> last index) in the right pan\n",
    "        else:\n",
    "            left_pan = source[0 : i + 1]\n",
    "            right_pan = source[i + 1 : (len(source))]\n",
    "\n",
    "            # Checking if the sum of the values in both pan same or not\n",
    "            if sum(left_pan) == sum(right_pan):\n",
    "                flag = True\n",
    "                break\n",
    "            else:\n",
    "                flag = False\n",
    "    print(flag)\n",
    "\n",
    "\n",
    "arr1 = [2,1,1,2,1] \n",
    "splitting_array(arr1) #false\n",
    "\n",
    "arr2 = [10,3,1,2,10] \n",
    "splitting_array(arr2) # true"
   ]
  },
  {
   "cell_type": "markdown",
   "metadata": {},
   "source": [
    "### Task 8: Array series  \n",
    "Write a method that takes an integer value n as a parameter. Inside the method, you should create an array of length n squared (n*n) and fill the array with the following pattern. Return the array at the end and print it.\n",
    "If,\n",
    "n=2: { 0,1,   2,1 } (spaces have been added to show two distinct groups).\n",
    "n=3 : { 0, 0, 1,    0, 2, 1,    3, 2, 1 } ((spaces have been added to show three distinct \n",
    "groups).\n",
    "n=4 : {0, 0, 0, 1,   0, 0, 2, 1,    0, 3, 2, 1,   4, 3, 2, 1}  (spaces have been added to show four distinct groups).\n"
   ]
  },
  {
   "cell_type": "code",
   "execution_count": 18,
   "metadata": {},
   "outputs": [
    {
     "name": "stdout",
     "output_type": "stream",
     "text": [
      "[0, 0, 0, 1, 0, 0, 2, 1, 0, 3, 2, 1, 4, 3, 2, 1]\n"
     ]
    }
   ],
   "source": [
    "# Task 8: Array series \n",
    "\n",
    "def array_series(n):\n",
    "\n",
    "    array = [0]*(n*n)\n",
    "\n",
    "    for i in range(1,n+1): \n",
    "\n",
    "        for j in range(1,i+1):\n",
    " \n",
    "            array[(i*n)-j] = j\n",
    "\n",
    "    print(array)\n",
    "\n",
    "\n",
    "array_series(4)\n",
    "\n",
    "\n"
   ]
  },
  {
   "cell_type": "markdown",
   "metadata": {},
   "source": [
    "### Task 9: Max Bunch Count  \n",
    "A \"bunch\" in an array is a consecutive chain of two or more adjacent elements of the same value. Write a method that returns the number of elements in the largest bunch found in the given array.\n",
    "Input: [1, 2, 2, 3, 4, 4, 4]   Output: 3\n",
    "Explanation: There are two bunches here {2,2} and {4,4,4}. The largest bunch is {4,4,4} containing 3 elements so 3 is returned.\n",
    "Input: [1,1,2, 2, 1, 1,1,1] Output:4\n",
    " Explanation: There are three bunches here {1,1} and {2,2} and {1,1,1,1}. The largest bunch is {1,1,1,1} containing 4 elements so 4 is returned."
   ]
  },
  {
   "cell_type": "code",
   "execution_count": 13,
   "metadata": {},
   "outputs": [
    {
     "name": "stdout",
     "output_type": "stream",
     "text": [
      "2\n",
      "4\n"
     ]
    }
   ],
   "source": [
    "# Task 9\n",
    "# Max bunch count\n",
    "\n",
    "def max_bunch(source):\n",
    "\n",
    "    count = 0\n",
    "    max_count = 0\n",
    "\n",
    "    for i in range(len(source)-1):\n",
    "\n",
    "        if source[i] == source[i+1]:\n",
    "            count +=1\n",
    "            max_count = count\n",
    "        else:\n",
    "            count = 1\n",
    "\n",
    "    return max_count\n",
    "\n",
    "\n",
    "arr1 = [1,2,2]\n",
    "print(max_bunch(arr1))\n",
    "\n",
    "arr2 = [1,1,2,2,1,1,1,1]\n",
    "print(max_bunch(arr2))"
   ]
  },
  {
   "cell_type": "markdown",
   "metadata": {},
   "source": [
    "### Task 10: Repetition  \n",
    "Write a method that takes in an array as a parameter and counts the repetition of each element. That is, if an element has appeared in the array more than once, then its ‘repetition’ is its number of occurrences. The method returns true if there are at least two elements with the same number of ‘repetition’. Otherwise, return false.\n",
    "Input: {4,5,6,6,4,3,6,4} Output: True\n",
    "Explanation: Two numbers repeat in this array: 4 and 6. 4 has a repetition of 3, 6 has a repetition of 3. Since two numbers have the same repetition output is True.\n",
    "Input: {3,4,6,3,4,7,4,6,8,6,6} Output: False\n",
    "Explanation: Three numbers repeat in this array:3,4 and 6 .3 has a repetition of 2, 4 has a repetition of 3, 6 has a repetition of 4. Since no two numbers have the same repetition output is False.\n"
   ]
  },
  {
   "cell_type": "code",
   "execution_count": 28,
   "metadata": {},
   "outputs": [
    {
     "name": "stdout",
     "output_type": "stream",
     "text": [
      "[2, 0, 0, 0] [2, 0, 0, 0] False\n",
      "None\n"
     ]
    }
   ],
   "source": [
    "# Task 10: \n",
    "# Reptition \n",
    "\n",
    "def repetition(source): \n",
    "\n",
    "    flag = False\n",
    "\n",
    "    items = [0]*len(source)\n",
    "    count_repeat = [0]*len(source)\n",
    "\n",
    "    repeated = 0 # number of repeated items\n",
    "\n",
    "    for i in range(len(source)-1):\n",
    "        bool = True\n",
    "        count = 1\n",
    "\n",
    "        \n",
    "        for x in range(repeated):\n",
    "            if (items[x]==source[i]):\n",
    "\n",
    "                bool = False\n",
    "\n",
    "        \n",
    "        if bool == True:\n",
    "            item = source[i]\n",
    "\n",
    "\n",
    "            for y in range(i+1,len(source)):\n",
    "\n",
    "                if source[y] == item:\n",
    "                    count +=1\n",
    "            \n",
    "            if count>1:\n",
    "                items[repeated] = item\n",
    "                count_repeat[repeated] = count\n",
    "                repeated+=1\n",
    "    \n",
    "    # Check at least 2 of the count of repetition are same or not\n",
    "    for i in range(repeated-1):\n",
    "\n",
    "            for j in range(i+1,repeated):\n",
    "\n",
    "                if count_repeat[i] == count_repeat[j]:\n",
    "                    flag = True\n",
    "                    break\n",
    "\n",
    "                    \n",
    "    return flag\n",
    "                    \n",
    "arr1 = [1,2,3,2,3]\n",
    "\n",
    "print(repetition(arr1))"
   ]
  },
  {
   "cell_type": "code",
   "execution_count": 2,
   "metadata": {},
   "outputs": [
    {
     "name": "stdout",
     "output_type": "stream",
     "text": [
      "False\n"
     ]
    }
   ],
   "source": [
    "# Task 10 \n",
    "# Youkee\n",
    "\n",
    "def repetition(a):\n",
    "    b=[0]*len(a)\n",
    "    c=[0]*len(a)  \n",
    "    j=0\n",
    "    for i in range(0,len(a)-1,1):\n",
    "        ans=\"yes\"\n",
    "        count=1\n",
    "        for idx_2 in range(j):\n",
    "            if(b[idx_2]==a[i]):\n",
    "                ans=\"no\"\n",
    "        if(ans==\"yes\"):\n",
    "            elem=a[i]\n",
    "            for idx in range(i+1,len(a),1):\n",
    "                if(a[idx]==elem):\n",
    "                    count+=1\n",
    "            if(count>1):\n",
    "                b[j]=elem\n",
    "                c[j]=count\n",
    "                j+=1\n",
    "    ans_2=\"False\"             \n",
    "    for i in range(0,j-1,1):\n",
    "        for idx in range(i+1,j,1):  \n",
    "             if(c[idx]==c[i]):\n",
    "                 ans_2=\"True\"\n",
    "                 break                                              \n",
    "    return ans_2\n",
    "a= [1,2,3,4,6,6]\n",
    "print(repetition(a))"
   ]
  }
 ],
 "metadata": {
  "interpreter": {
   "hash": "11938c6bc6919ae2720b4d5011047913343b08a43b18698fd82dedb0d4417594"
  },
  "kernelspec": {
   "display_name": "Python 3.9.6 64-bit",
   "language": "python",
   "name": "python3"
  },
  "language_info": {
   "codemirror_mode": {
    "name": "ipython",
    "version": 3
   },
   "file_extension": ".py",
   "mimetype": "text/x-python",
   "name": "python",
   "nbconvert_exporter": "python",
   "pygments_lexer": "ipython3",
   "version": "3.9.6"
  },
  "orig_nbformat": 4
 },
 "nbformat": 4,
 "nbformat_minor": 2
}
