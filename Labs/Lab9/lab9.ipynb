{
 "cells": [
  {
   "cell_type": "code",
   "execution_count": 13,
   "metadata": {},
   "outputs": [],
   "source": [
    "class Node:\n",
    "    def __init__(self, data, left = None, right = None):\n",
    "        self.data = data\n",
    "        self.left = left\n",
    "        self.right = right\n",
    "    "
   ]
  },
  {
   "cell_type": "code",
   "execution_count": 14,
   "metadata": {},
   "outputs": [
    {
     "name": "stdout",
     "output_type": "stream",
     "text": [
      "height:  3\n"
     ]
    }
   ],
   "source": [
    "# Task 1 : Recursively calculate the height of a tree\n",
    "\n",
    "def height(root):\n",
    "\n",
    "    if root is None:\n",
    "        return 0\n",
    "\n",
    "    return 1 + max(height(root.left), height(root.right))\n",
    "\n",
    "\n",
    "\n",
    "# Driver code\n",
    "\n",
    "root = Node(15)\n",
    "root.left = Node(10)\n",
    "root.right = Node(20)\n",
    "root.left.left = Node(7)\n",
    "root.left.right = Node(12)\n",
    "root.right.left = Node(16)\n",
    "root.right.right = Node(25)\n",
    "\n",
    "\n",
    "print(\"height: \", height(root))\n"
   ]
  },
  {
   "cell_type": "code",
   "execution_count": 15,
   "metadata": {},
   "outputs": [
    {
     "name": "stdout",
     "output_type": "stream",
     "text": [
      "1 is not present in the tree\n",
      "2 is not present in the tree\n",
      "3 is not present in the tree\n",
      "4 is not present in the tree\n",
      "5 is not present in the tree\n",
      "6 is not present in the tree\n",
      "Level of 7 is 3\n"
     ]
    }
   ],
   "source": [
    "# Task 2 : Calculate the level of a Node in a tree\n",
    "\n",
    "def eachLevel(node, value, level):\n",
    "    if (node == None):\n",
    "        return 0\n",
    "\n",
    "    if (node.data == value):\n",
    "        return level\n",
    "\n",
    "    \n",
    "    downLevel = eachLevel(node.left, value, level +1)\n",
    "\n",
    "    if (downLevel != 0):\n",
    "        return downLevel\n",
    "    else:\n",
    "        downLevel = eachLevel(node.right, value, level + 1)\n",
    "        return downLevel\n",
    "\n",
    "def getLevel(node, value):\n",
    "    return eachLevel(node, value, 1)\n",
    "\n",
    "\n",
    "root = Node(15)\n",
    "root.left = Node(10)\n",
    "root.right = Node(20)\n",
    "root.left.left = Node(7)\n",
    "root.left.right = Node(12)\n",
    "root.right.left = Node(16)\n",
    "root.right.right = Node(25)\n",
    "\n",
    "for x in range(1, 8):\n",
    "    level = getLevel(root, x)\n",
    "    if (level):\n",
    "        print(f\"Level of {x} is {getLevel(root, x)}\")\n",
    "    else:\n",
    "        print(f\"{x} is not present in the tree\")\n",
    "\n",
    "\n",
    "def findLevelofNode(node, )\n",
    "\n"
   ]
  },
  {
   "cell_type": "code",
   "execution_count": 16,
   "metadata": {},
   "outputs": [],
   "source": [
    "# Task 3 : Print elements of all the node of a tree using Pre order\n",
    "\n"
   ]
  },
  {
   "cell_type": "code",
   "execution_count": 17,
   "metadata": {},
   "outputs": [],
   "source": [
    "# Task 4\n"
   ]
  },
  {
   "cell_type": "code",
   "execution_count": 18,
   "metadata": {},
   "outputs": [],
   "source": [
    "# Task 5\n"
   ]
  }
 ],
 "metadata": {
  "kernelspec": {
   "display_name": "Python 3.10.5 64-bit",
   "language": "python",
   "name": "python3"
  },
  "language_info": {
   "codemirror_mode": {
    "name": "ipython",
    "version": 3
   },
   "file_extension": ".py",
   "mimetype": "text/x-python",
   "name": "python",
   "nbconvert_exporter": "python",
   "pygments_lexer": "ipython3",
   "version": "3.10.5"
  },
  "orig_nbformat": 4,
  "vscode": {
   "interpreter": {
    "hash": "2f618269b973d24085f675b42f2810613f479d8adb53313aa29e50ef167b85a5"
   }
  }
 },
 "nbformat": 4,
 "nbformat_minor": 2
}
